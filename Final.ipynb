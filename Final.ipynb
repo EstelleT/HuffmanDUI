{
 "cells": [
  {
   "cell_type": "markdown",
   "metadata": {},
   "source": [
    "# Code de Huffman"
   ]
  },
  {
   "cell_type": "markdown",
   "metadata": {},
   "source": [
    "## Introduction: ##\n",
    "Pour ce projet, nous avons choisi de nous intéresser au code de Huffman, qui permet la compression de données. \n",
    "\n",
    "On peut lire dans l'article de Wikipédia au 27/07/2020 : \n",
    "\n",
    "<i>Le codage de Huffman est un algorithme de compression de données sans perte. Le codage de Huffman utilise un code à longueur variable pour représenter un symbole de la source (par exemple un caractère dans un fichier). Le code est déterminé à partir d'une estimation des probabilités d'apparition des symboles de source, un code court étant associé aux symboles de source les plus fréquents.   \n",
    "\n",
    "Un code de Huffman est optimal au sens de la plus courte longueur pour un codage par symbole, et une distribution de probabilité connue. Des méthodes plus complexes réalisant une modélisation probabiliste de la source permettent d'obtenir de meilleurs ratios de compression.</i>   \n",
    "\n",
    "Il a été inventé par David Albert Huffman, et publié en 1952. \n",
    "\n",
    "\n",
    "Le codage de Huffman ne se base que sur la fréquence relative des symboles d'entrée (suites de bits) sans distinction pour leur provenance (images, vidéos, sons, etc.). Nous avons choisi dans la suite de l'appliquer à des chaînes de caractère.\n"
   ]
  },
  {
   "cell_type": "code",
   "execution_count": 51,
   "metadata": {},
   "outputs": [],
   "source": [
    "phrase = \"Le covid c'est pas fantastique, les vacances on travaille le projet\""
   ]
  },
  {
   "cell_type": "markdown",
   "metadata": {},
   "source": [
    "<b>Remarque</b> : Nous avons choisi d'écrire les algorithmes en langage naturel, car le pseudo code n'est pas au programme de NSI. Dans le programme de la spécialité NSI, il est indiqué que python étant très proche du pseudo code on peut s'en passer. "
   ]
  },
  {
   "cell_type": "markdown",
   "metadata": {},
   "source": [
    "# I. Compression"
   ]
  },
  {
   "cell_type": "markdown",
   "metadata": {},
   "source": [
    "### Etapes de la compression : ###\n",
    "1. [obtenir les occurrences des caractères de la chaîne de caractères](#occurrence)    \n",
    "2. [construire l'arbre de Huffmann](#contruction_arbre)    \n",
    "   * [je propose une version en utilisant la structure \"tas\", c'est ce qu'on trouve classiquement ;-)](#arbre_avec_tas)\n",
    "   * [une autre sans les tas, avec des listes](#arbre_avec_liste)\n",
    "   \n",
    "3. [calcul de la table de codage par un parcours d’arbre](#table_codage)\n",
    "4. [codage](#codage)"
   ]
  },
  {
   "cell_type": "markdown",
   "metadata": {},
   "source": [
    "\n",
    "<div id=\"occurrence\">\n",
    "<h1>1. Occurrence des caractères</h1>\n",
    "    \n",
    "Pour former l'arbre de Huffman, il faut déterminer l'occurrence de chacun des caractères apparaissant dans le texte.\n",
    "Ci dessous, une fonction qui renvoie un dictionnaire contenant les occurrences de chacun des caractères présents d'une chaîne de caractères (les clés sont les caractères, les valeurs sont les occurrences) puis une fonction pour convertir le dictionnaire en liste, ou en tas, pour la suite"
   ]
  },
  {
   "cell_type": "code",
   "execution_count": 27,
   "metadata": {},
   "outputs": [],
   "source": [
    "def creationDictionnaireoccurrence(u):\n",
    "    '''Entrée : u : une chaîne de caractère e\n",
    "    Sortie : dictionnaire {caractère : occurrence}'''\n",
    "    occu = {}\n",
    "    for c in u :\n",
    "        if c in occu : #si la clé n'existe pas, on la crée et on met la valeur à 1\n",
    "            occu[c]+=1\n",
    "        else :\n",
    "            occu[c]=1 #sinon on ajoute 1 la valeur de la clé\n",
    "    return occu\n",
    "    "
   ]
  },
  {
   "cell_type": "markdown",
   "metadata": {},
   "source": [
    "<div class=\"alert alert-warning\" role=\"alert\">\n",
    "Correction :   \n",
    "    \n",
    "  - Terminaison : boucle for qui se termine après O(n) opérations(avec n  longueur de la chaîne de caractères, car on itère sur chacun des caractères de la chaîne.\n",
    "     \n",
    "  - Validité  : invariant de boucle : Après k itérations, le dictionnaire contient les occurrences des caractères présents dans le début de la chaîne jusqu'au kème caractère. (Puis par récurrence...)   "
   ]
  },
  {
   "cell_type": "code",
   "execution_count": 28,
   "metadata": {},
   "outputs": [],
   "source": [
    "def conversionDictionnaireoccurrenceEnListe(dico):\n",
    "    '''Entrée : u : une chaîne de caractère e\n",
    "    Sortie : liste contenant des tuples(occurrence,('F', caractere)'''\n",
    "    liste = [(occurrence,('F', lettre)) for lettre,occurrence in dico.items()]\n",
    "    return liste"
   ]
  },
  {
   "cell_type": "markdown",
   "metadata": {},
   "source": [
    "<div class=\"alert alert-warning\" role=\"alert\">\n",
    "Correction  :  \n",
    "    \n",
    "   - Terminaison : la conversion du dictionnaire se termine après O(n) (n longueur de la chaîne de caractère, car on itère sur chacun items du tableau, et au pire, il y a autant d'items que de caractère, si la chaîne de caractère de départ ne contient que des caractères différents.)\n",
    "   \n",
    "   - Validité  : invariant de boucle : Après k itérations, la liste contient les occurrences de k caractères du dictionnaire  . (Puis par récurrence...)   "
   ]
  },
  {
   "cell_type": "code",
   "execution_count": 29,
   "metadata": {},
   "outputs": [],
   "source": [
    "def conversionDictionnaireoccurrenceEnTas(dico):\n",
    "    '''Entrée : dico : un dictionnaire contenant des items (caractére : occurrence)\n",
    "    Sortie : tas contenant des tuples(occurrence,('F', caractere)'''\n",
    "    tas = [(occurrence,('F', lettre)) for lettre,occurrence in dico.items() ]#on convertit le dictionnaire en liste\n",
    "    convertirListeEnTas(tas)# on \"tamise\" la liste pour en faire un tas (voir plus bas la notion de tas)\n",
    "    return tas"
   ]
  },
  {
   "cell_type": "markdown",
   "metadata": {},
   "source": [
    "<div class=\"alert alert-warning\" role=\"alert\">\n",
    "Correction  :  \n",
    "    \n",
    "   - Terminaison : la conversion du dictionnaire en liste se termine après O(n) opérations (n longueur de la chaîne de caractères, car on itère sur chacun  des items du dictionnaire, et au pire, il y a autant d' items que de caractères, si la chaîne de caractères de départ ne contient que des caractères différents. Et la fonction `convertirListeEnTas` (heapify en anglais) est en O(n) aussi <a herf=\"#arbre_avec_tas\">démonstration plus bas</a>. Donc la fonction a une complexité en O(n)\n",
    "   \n",
    "   - Validité : invariant de boucle : Après k itérations, la liste contient les occurrences de k caractères du dictionnaire  . (Puis par récurrence...). Voir validité de la fonction `convertirListeEnTas` <a herf=\"#arbre_avec_tas\"> plus bas</a>\n",
    "    "
   ]
  },
  {
   "cell_type": "markdown",
   "metadata": {},
   "source": [
    "<div id =\"construction_arbre\">\n",
    "    <h1> 2. La construction de l'arbre de Huffman</h1>\n",
    "    "
   ]
  },
  {
   "cell_type": "markdown",
   "metadata": {},
   "source": [
    "<div class=\"alert alert-success\" role=\"alert\">\n",
    "  <h4 class=\"alert-heading\">Comment j'ai choisi de représenter l'arbre de Huffman en Python ?</h4>\n",
    "\n",
    "\n",
    "* L'arbre vide est codé par le tuple vide () .  \n",
    "* les feuilles seront représentées par le t-uplet (occurrence,('F', caractère)) ( F comme \"feuille\").   \n",
    "* Les nœuds ont un fils gauche et un fils droit . Soient G et D leurs représentations :   \n",
    "les nœuds seront représentés par le t-uplet (somme des occurrences,('N', G, D)) ( N comme \"nœud\").\n",
    "\n",
    "> Rq : J'ai choisi d'utiliser des t-uplets pour représenter les feuilles et les nœuds plutôt que des dictionnaires pour m'affranchir du problème lors des comparaisons.   \n",
    "En effet pour \"ranger le tas correctement\", la fonction compare (strictement) les clés de priorité, et en cas d'égalité sur la valeur de la clé de priorité, va comparer la valeur suivante de l'élément, mais on ne peut pas comparer des dictionnaires en python ! Par contre on peut comparer des listes..."
   ]
  },
  {
   "cell_type": "markdown",
   "metadata": {},
   "source": [
    "<div class=\"alert alert-success\" role=\"alert\">\n",
    "  <h4 class=\"alert-heading\">Algorithme de la contruction de l'arbre de Huffman</h4>\n",
    "    À chaque itération, l’algorithme sélectionne les éléments  ayant les poids les plus faibles, et les assemble pour former un nouvel élément dont le poids est la somme des deux arbres. "
   ]
  },
  {
   "cell_type": "markdown",
   "metadata": {},
   "source": [
    "<div id = \"arbre_avec_tas\">\n",
    "<h2 > Construction de l'arbre en utilisant un tas</h2>"
   ]
  },
  {
   "cell_type": "markdown",
   "metadata": {},
   "source": [
    "\n",
    "Pour fabriquer l'arbre de Huffman associé au dictionnaire contenant les occurrences des caractères, on peut utiliser un tas.\n",
    "On lit dans wikipédia :\n",
    ">\"En informatique, un tas (ou monceau au Canada, heap en anglais) est une structure de données de type arbre qui permet de retrouver directement l'élément que l'on veut traiter en priorité.  \n",
    "\n",
    "C'est ce que l'on veut dans la construction de l'arbre de Huffman !\n",
    "\n",
    "En effet un arbre de Huffmann est un arbre binaire, et on veut pouvoir traiter les nœuds de poids (occurrence) faibles. Ce que permet typiquement un tas.\n",
    "\n",
    ">On dit qu'un arbre est ordonné en tas lorsque la propriété suivante est vérifiée :\n",
    ">\n",
    ">    Pour tous nœuds A et B de l'arbre tels que B soit un fils de A\n",
    ">    clé(A) ≥ clé(B)\n",
    ">\n",
    ">ou\n",
    ">\n",
    ">    Pour tous nœuds A et B de l'arbre tels que B soit un fils de A\n",
    ">    clé(A) ≤ clé(B)\n",
    ">\n",
    ">Un arbre vérifiant cette propriété est aussi appelé « arbre tournoi ». Cette propriété implique que la plus grande clé (ou la plus petite) soit située à la racine du tas. Ils sont ainsi très utilisés pour implémenter les files à priorités car ils permettent des insertions en temps logarithmique et un accès direct au plus grand élément. L'efficacité des opérations effectuée sur des tas est très importante dans de nombreux algorithmes sur les graphes. Les tas sont en outre utilisés dans l'algorithme de tri par tas.\n",
    ">\n",
    ">On peut ainsi représenter un tas à n éléments par un tableau à n cases, de la façon suivante :\n",
    ">\n",
    ">Si on note 0 le numéro de la racine du tas, on peut définir récursivement le numéro de tous les sommets dans l'arbre, grâce à la formule : Pour un sommet parent numéroté i, son fils gauche aura pour numéro 2*i+1, et son sommet droit 2*i+2. Le parent d'un sommet j a donc toujours pour numéro la partie entière inférieure de (j-1)/2.   \n",
    "\n",
    "<img src=\"heap.png\">\n",
    "\n",
    "<a href =\"https://towardsdatascience.com/data-structure-heap-23d4c78a6962\">source</a>  \n",
    "\n",
    "Un tas est une structure de données permettant les opérations suivantes :  \n",
    "- Mettre dans le tas un objet avec une priorité donnée (une priorité est, par exemple, un entier, ici ce sera l'occurrence ou la somme des occurrences des fils)\n",
    "- Retirer de la file l'objet de priorité minimale.\n",
    "\n",
    "\n",
    "> <b>Remarque</b> : Pour le tri dans le tas    \n",
    "A valeur de clé de priorité (occurrence (ou somme des occurrences)) égale, l'emploi de p-uplet permet bien l'ordonnancement car, ce sera F avant N (par ordre alphabétique), et pour deux feuilles, ordre alphabétique du caractère, pour deux nœuds ordre alphabétique du fils gauche... ). Le caractère étant unique dans l'arbre, l'ordonnancement sera assuré.  \n",
    "\n",
    "<div class=\"alert alert-danger\" role=\"alert\">\n",
    "Voici l'algorithme, pour la construction de l'arbre en utilisant les tas :   \n",
    "     \n",
    "1. On met dans le tas les futures feuilles de notre arbre avec leurs occurrences comme clé de priorité. Pour cela il suffit de lire le dictionnaire des occurrences dont les clés sont les lettres et les valeurs sont les occurrences. (Fait en haut dans la fonction conversionDictionnaireOccurrenceEnTas)   \n",
    "2. Pour k allant de 0 au nombre de feuilles -1 :  (il y a n feuilles, il y aura n-1 nœuds binaires) \n",
    "   * On retire du tas la racine ( et on réarrange le tas), soit x cet élément. \n",
    "   * On retire du nouveau tas la racine ( et on réarrange le tas), soit y cet élément. \n",
    "   * On crée le nœud z dont les deux fils sont x et y, et de priorité la somme des priorités des fils .   \n",
    "   * On met z dans le tas correctement rangé.   \n",
    "3. Maintenant, le tas contient un unique arbre. On renvoie cet arbre.   \n",
    "\n",
    "Il faut donc :\n",
    " * une fonction pour transformer une liste en tas, c'est ce que fait la fonction `convertirListeEnTas` \n",
    " * une fonction pour retirer la racine du tas (occurrence la plus petite) et réarranger le tas, c'est ce que fait la fonction `suppressionDeLaRacine`\n",
    " * une fonction pour ajouter un nœud dans le tas et réarranger le tas, c'est ce que fait la fonction `insererElement`\n",
    " "
   ]
  },
  {
   "cell_type": "markdown",
   "metadata": {},
   "source": [
    "### Les fonctions nécessaires pour manipuler les tas binaires ###\n"
   ]
  },
  {
   "cell_type": "markdown",
   "metadata": {},
   "source": [
    "Fonction `suppressionDeLaRacine` (c'est à dire du min)        \n",
    "  + entrée : une liste qui implémente un tas de n éléments\n",
    "  + sortie : une liste qui implémente un tas constitué des n-1 éléments du tas d'entrée moins sa racine **et** la racine supprimée\n",
    "\n",
    "**Algorithme**\n",
    "1. On remplace la racine (c'est à dire l'élément 0 de la liste) par le dernier élément du tas \n",
    "2. on fait descendre cet élément dans le tas, en réagençant les différents éléments, pour garder la structure de tas.\n",
    "\n",
    "Pour l'étape 2, il nous faut une procédure `descendre` (de la racine vers les feuilles)\n",
    "  + Entrée : une liste qui implémente un tas, sauf 1 élément d'indice i **et** l'indice i\n",
    "  + Sortie : une liste qui implémente un tas\n",
    "  \n",
    "**Algorithme**   \n",
    "Tant que l'on a pas atteint l'avant dernier étage (indice dans la liste <n//2) ou que l'élément n'est pas plus petit que ces deux enfants   \n",
    "  * On compare l'élément i à ses deux enfants (2*i et 2*i+1)\n",
    "  * Si l'élément i est plus grand qu'un de ses enfants (ou les deux) on l'échange avec le plus petit de ses enfants et i prend la valeur de l'indice de l'enfant avec qui on l'a échangé\n"
   ]
  },
  {
   "cell_type": "code",
   "execution_count": 30,
   "metadata": {},
   "outputs": [
    {
     "name": "stdout",
     "output_type": "stream",
     "text": [
      "[3, 4, 6, 21, 10, 7, 8, 22, 28, 13, 19, 25, 20]\n",
      "[4, 10, 6, 21, 13, 7, 8, 22, 28, 20, 19, 25]\n",
      "[6, 10, 7, 21, 13, 25, 8, 22, 28, 20, 19]\n",
      "[7, 10, 8, 21, 13, 25, 19, 22, 28, 20]\n",
      "[8, 10, 19, 21, 13, 25, 20, 22, 28]\n",
      "[10, 13, 19, 21, 28, 25, 20, 22]\n",
      "[13, 21, 19, 22, 28, 25, 20]\n",
      "[19, 21, 20, 22, 28, 25]\n",
      "[20, 21, 25, 22, 28]\n",
      "[21, 22, 25, 28]\n",
      "[22, 28, 25]\n",
      "[25, 28]\n",
      "[28]\n",
      "[]\n"
     ]
    }
   ],
   "source": [
    "def descendre (presqueTas,i): #on descend l'élément i vers les feuilles jusqu'à ce que l'élément soit dans une position de parent qui respecte la structure de tas\n",
    "    '''Entrée : une liste qui implémente un tas, sauf 1 élément d'indice i \n",
    "  Sortie : une liste qui implémente un tas'''\n",
    "    n = len(presqueTas)\n",
    "    \n",
    "    while i<n//2 : #on descends juste avant les feuilles\n",
    "        indiceEnf1 = 2*i+1 #les enfants sont en 2*i+1 et 2*i+2 le deuxieme enfant n 'existe pas forcement'\n",
    "        enfant1 = presqueTas[indiceEnf1]\n",
    "        if indiceEnf1<(n-1) : #cela signifie qu 'il y a le deuxieme enfant'\n",
    "            indiceEnf2 = 2*i+2 \n",
    "            \n",
    "            enfant2 = presqueTas[indiceEnf2]\n",
    "            if presqueTas[i]>enfant1 or presqueTas[i]>enfant2:\n",
    "                if (enfant2>enfant1): #on échange avec le plus petit des enfants\n",
    "                    presqueTas[i],presqueTas[indiceEnf1] = presqueTas[indiceEnf1],presqueTas[i]\n",
    "                    i =indiceEnf1\n",
    "                    \n",
    "                else :\n",
    "                    presqueTas[i],presqueTas[indiceEnf2] = presqueTas[indiceEnf2],presqueTas[i]\n",
    "                    i =indiceEnf2\n",
    "                    \n",
    "                \n",
    "            else : break  \n",
    "        else : #il n'y a qu'un enfant on vérifie si il faut faire l'échange ou pas \n",
    "            if presqueTas[i]>enfant1:\n",
    "                    presqueTas[i],presqueTas[indiceEnf1] = presqueTas[indiceEnf1],presqueTas[i]\n",
    "                    i =indiceEnf1\n",
    "                    \n",
    "            else: break\n",
    "            \n",
    "   \n",
    "    \n",
    "def suppressionDeLaRacine(tas):\n",
    "    '''entrée : une liste qui implémente un tas de n éléments\n",
    "   sortie : une liste qui implémente un tas constitué des n-1 éléments du tas d'entrée moins sa racine et la racine supprimée'''\n",
    "    racine = tas[0]\n",
    "    tas[0]=tas[len(tas)-1]\n",
    "    tas.pop()\n",
    "    descendre (tas,0)\n",
    "    return (racine)\n",
    "\n",
    "\n",
    "\n",
    "#### Pour tester : \n",
    "if True :\n",
    "    tas = [3,4,6,21,10,7,8,22,28,13,19,25,20]\n",
    "    print (tas)\n",
    "    for i in range(len(tas)):\n",
    "        suppressionDeLaRacine(tas)\n",
    "        print (tas)"
   ]
  },
  {
   "cell_type": "markdown",
   "metadata": {},
   "source": [
    "<div class=\"alert alert-warning\" role=\"alert\">\n",
    "Correction de la fonction descendre:  \n",
    "    \n",
    "   - Terminaison : \n",
    "     - Descendre se terminera après O(log n) opérations car au pire on fera descendre de la racine jusqu'à une feuille l'élément, c'est à dire de toute la hauteur de l'arbre -1 = h-1 qui est O(log n). (voir démo plus bas) \n",
    "     - Une autre façon de voir, est de définir le convergent : n//2 - i,i, est au pire des cas initialisé à 0, et i est multiplié par 2 à chaque itération, donc la boucle se termine, et au pire il y aura log(n) itérations.\n",
    "   \n",
    "   - Validité : Il faut vérifier qu'à la fin, la liste a bien une structure de tas.\n",
    "     - Invariant de boucle : A la fin d'une itération, les éléments de la liste autre que i, 2.i+1 et 2.i+2 ont bien une structure de tas, c'est à dire que le parent est inférieur à ces deux enfants.\n",
    "     - Par récursivité :\n",
    "       - La première itération, la liste est rangée en tas (par précondition de l'entrée), sauf peut être i et ses enfants, lors de la première itération, on \"range\" en structure de tas i et ses enfants, et donne à i la valeur de l'indice de l'enfant avec qui il a été échangé. \n",
    "       - A chaque tour de boucle, on range correctement, i et ses enfants pour respecter la structure de tas, puis i prend la valeur de l'indice de l'enfant avec qui on l'a échangé, donc, la structure d'arbre est respectée, sauf pour le nouveau i et ses enfants.\n",
    "       - On sort de la boucle, soit si i est bien rangé, et comme tous les autres éléments sont bien rangés, la liste a bien une structure de tas. Soit si i>=n//2, c'est à dire si l'élément auquel on s'intéresse est une feuille. (i>=n//2 ---> 2*i+1 >= n+1 donc il n'y a pas de fils pour l'élément i, et l'élément i est une feuille)\n",
    "       \n",
    "> Rq : la correction de la fonction suppressionDeLaRacine, dépend directement de la correction de la fonction descendre\n",
    "\n",
    "<b>Remarque</b> : hauteur d'un tas : h (un tas est un arbre binaire presque complet)   \n",
    "Un tas T qui emmagasine n éléments a une hauteur h = O(log n)   \n",
    "Preuve:      \n",
    "– Soit h la hauteur d'un tas stockant les n  clés   \n",
    "– Puisque il y a 2 ** i clés à la profondeur i= 0, ... , h - 2 et au moins une clé à profondeur h - 1, nous avons $ n ≥ 1 + 2 + 4 +...+ 2^{h-2}  + 1  $ \n",
    "–Ainsi, $ n ≥  2^{h-1} $  , i.e., h ≤ log(n) + 1\n"
   ]
  },
  {
   "cell_type": "markdown",
   "metadata": {},
   "source": [
    "Fonction `insererElement`         \n",
    "  + entrée : une liste qui implémente un tas de n éléments **et** un élément à ajouter.\n",
    "  + sortie : une liste qui implémente un tas constitué des n éléments du tas d'entrée et de l'élément à ajouter\n",
    "\n",
    "**Algorithme**\n",
    "1. On place l'élément à la fin de la liste \n",
    "2. on fait monter cet élément dans le tas (vers la racine), en réagençant les différents éléments, pour garder la structure de tas.\n",
    "\n",
    "Pour l'étape 2, il nous faut une procédure `monter` (des feuilles vers la racine)\n",
    "  + Entrée : une liste qui implémente un tas, sauf le dernier élément\n",
    "  + Sortie : une liste qui implémente un tas\n",
    "  \n",
    "**Algorithme**   \n",
    "Tant que l'on a pas atteint la racine (i>=1)  ou que l'élément n'est pas plus grand que son parent   \n",
    "  * On compare l'élément i à son parent d'indice ((i-1)//2)\n",
    "  * Si l'élément i est plus petit que son parent on l'échange avec le plus petit de ses enfants, et i prend  la valeur de l'indice du parent"
   ]
  },
  {
   "cell_type": "code",
   "execution_count": 31,
   "metadata": {},
   "outputs": [
    {
     "name": "stdout",
     "output_type": "stream",
     "text": [
      "[2, 4, 3, 21, 10, 7, 6, 22, 28, 13, 19, 25, 20, 8]\n"
     ]
    }
   ],
   "source": [
    "def rajouterElement (tas, e):\n",
    "    '''entrée : une liste qui implémente un tas de n éléments et un élément à ajouter.\n",
    "  sortie : une liste qui implémente un tas constitué des n éléments du tas d'entrée et de l'élément à ajouter'''\n",
    "    tas.append(e)\n",
    "    monter(tas)\n",
    "    return tas\n",
    "\n",
    "def monter (tas): #on monte le dernier élément jusqu'à une bonne place, vers la racine\n",
    "    '''Entrée : une liste qui implémente un tas, sauf le dernier élément\n",
    "  Sortie : une liste qui implémente un tas'''\n",
    "    i = len(tas)-1\n",
    "    while i>=1:\n",
    "        indiceParent = (i-1)//2\n",
    "        if tas[i]<tas[indiceParent] :\n",
    "            tas[i],tas[indiceParent] = tas[indiceParent],tas[i]\n",
    "            i = indiceParent\n",
    "        else :\n",
    "            break\n",
    "\n",
    "#### Pour tester :\n",
    "if True :            \n",
    "    tas = [3,4,6,21,10,7,8,22,28,13,19,25,20]\n",
    "    rajouterElement(tas,2)\n",
    "    print (tas)   "
   ]
  },
  {
   "cell_type": "markdown",
   "metadata": {},
   "source": [
    "<div class=\"alert alert-warning\" role=\"alert\">\n",
    "Correction de la fonction monter:  \n",
    "    \n",
    "   - Terminaison : \n",
    "     - Monter se terminera après O(log n) opérations car au pire on fera monter des feuilles jusqu'à la racine l'élément, c'est à dire de toute la hauteur de l'arbre -1 = h-1 qui est O(log n).  \n",
    "     - Une autre façon de voir, est de définir le convergent : i-3, i est  initialisé à la n (nombre d'élément), et i est divisé par 2 à chaque itération, donc la boucle se termine, et au pire il y aura log(n) itérations.\n",
    "   \n",
    "   - Validité : Il faut vérifier qu'à la fin, la liste a bien une structure de tas.\n",
    "     - Invariant de boucle : A la fin d'une itération, les éléments de la liste autre que i et son parent d'indice (i-1)//2 ont bien une structure de tas, c'est à dire que le parent est inférieur à ces deux enfants.\n",
    "     > Rq : Et le deuxième fils !\n",
    ">    - soit le dernier élément enf1 a un frère enf2, et son frère est supérieur à son parent par, car la structure de tas est respectée donc enf2>par, si on effectue l'échange entre enf1 et parent, c'est que enf1<par, ce qui implique enf2>enf1 (or enf1 devient le parent de enf2) la structure de tas est respectée. \n",
    ">    - Si le dernier élément est fils unique, la question du deuxième enfant ne se pose pas !\n",
    "> Cela ne se pose que pour le dernier élément, car un tas est un arbre binaire presque complet.\n",
    "     - Par récursivité :\n",
    "       - La première itération, \"range\", si nécessaire, en structure de tas le dernier élément et son parent (pour le deuxième enfant voir remarque ci-dessus), et donne à i la valeur de l'indice du parent avec qui il a été échangé. \n",
    "       - A chaque itération, on range correctement, i et son parent pour respecter la structure de tas, puis i prend la valeur de l'indice du parent avec qui on l'a échangé, donc, la structure d'arbre est respectée, sauf pour le nouveau i et son parent.\n",
    "       - On sort de la boucle, soit si i est bien rangé, et comme tous les autres éléments sont bien rangés, la liste a bien une structure de tas. Soit si i=0, c'est à dire si l'élément auquel on s'intéresse est une racine. \n",
    "       \n",
    "> Rq : la correction de la fonction rajouterElement, dépend directement de la correction de la fonction monter"
   ]
  },
  {
   "cell_type": "markdown",
   "metadata": {},
   "source": [
    "Fonction `convertirListeEnTas`         \n",
    "  + entrée : une liste à n éléments (avec une clé de priorité)\n",
    "  + sortie : une liste qui implémente un tas constitué des n éléments de la liste\n",
    "  \n",
    "Nous pourrions choisir d'insérer les n éléments un par un (insérerElément en O(log n ), pour chacun de n éléments), mais cela ferait O(n log(n)) opérations.\n",
    "\n",
    "Il y a mieux !  en O(n)\n",
    "\n",
    "L'idée est de réarranger récursivement chaque sous arbre dans le tas en commençant par les feuilles\n",
    "\n",
    "\n",
    "**Algorithme**\n",
    "On parcourt les éléments en partant de l'avant dernier niveau (donc le niveau qui ne contient pas de feuille, soit d'indice = à n//2 et on remonte j'usqu' à la racine de droite à gauche (donc n//2, n//2-1, n//2-2....0).\n",
    "    chaque élément est descendu vers les feuilles, jusqu'à ce qu'il soit à une position qui respecte la structure de tas.\n"
   ]
  },
  {
   "cell_type": "code",
   "execution_count": 32,
   "metadata": {},
   "outputs": [
    {
     "name": "stdout",
     "output_type": "stream",
     "text": [
      "[1, 2, 6, 8, 9, 7, 45]\n"
     ]
    }
   ],
   "source": [
    "def convertirListeEnTas(x):\n",
    "    \"\"\"\n",
    "    entrée : une liste à n éléments (avec une clé de priorité)\n",
    "    sortie : une liste qui implémente un tas constitué des n éléments de la liste\n",
    "\"\"\"\n",
    "    n = len(x)\n",
    "    # Transform bottom-up.  The largest index there's any point to looking at\n",
    "    # is the largest with a child index in-range, so must have 2*i + 1 < n,\n",
    "    # or i < (n-1)/2.  If n is even = 2*j, this is (2*j-1)/2 = j-1/2 so\n",
    "    # j-1 is the largest, which is n//2 - 1.  If n is odd = 2*j+1, this is\n",
    "    # (2*j+1-1)/2 = j so j-1 is the largest, and that's again n//2-1.\n",
    "    for i in reversed(range(n//2)):\n",
    "        descendre(x, i)\n",
    "#### Pour tester :\n",
    "if True :\n",
    "    tas = [1,2,45,8,9,7,6]\n",
    "    convertirListeEnTas(tas)\n",
    "    print (tas)"
   ]
  },
  {
   "cell_type": "markdown",
   "metadata": {},
   "source": [
    "<div class=\"alert alert-warning\" role=\"alert\">\n",
    "Correction de la fonction convertirListeEnTas:  \n",
    "    \n",
    "   - Terminaison : \n",
    "     - Boucle for, qui s'effectue n//2 fois, (et la fonction descendre se termine)\n",
    "     - Complexité : Soit h la hauteur de l'arbre, on numérote les niveau de 0 pour la racine à h-1 pour les feuilles.   \n",
    "       pour un élément d'un niveau i, il pourra au max descendre de h-i-1 niveaux jusqu'à une feuille. Et pour un niveau i, il y $ 2^i $ éléments. Donc au max, il y aura :  \n",
    "       \n",
    "     $ C = \\sum_{i=0}^{h-1} (h-i-1). 2^i $ opérations   \n",
    "     \n",
    "     On effectue le changement de variable $ j = h-i-1 $\n",
    "     \n",
    "     $ C = 2^{h-1} \\sum_{j=1}^{h-1} \\frac 1 {2^j} $ opérations  \n",
    "     \n",
    "     Or $ \\sum_{j=1}^{h-1} \\frac 1 {2^j} $ converge (série géométrie de raison inf à 1)  \n",
    "     \n",
    "     Donc $ C = O (2^{h-1}) $   \n",
    "     \n",
    "     Or h <= log n  \n",
    "     \n",
    "     Donc C = O(n)\n",
    "     \n",
    "     \n",
    "   \n",
    "   - Validité : Il faut vérifier qu'à la fin, la liste a bien une structure de tas.\n",
    "     - Invariant de boucle : Pendant le parcours des éléments on maintient l'invariant suivant : Tous les sous-arbres des élément à droite de l'élément courant (sur le même niveau) sont des tas. A chaque itération, on applique à l'élément courant, la fonction descendre qui place l'élément tel que le sous arbre sous l'élément courant soit un tas. Donc après avoir traité la racine, comme elle vérifie l'invariant, notre arbre est un tas.\n",
    "       \n",
    "> Rq : la correction de cette fonction, dépend directement de la correction de la fonction descendre faite plus haut"
   ]
  },
  {
   "cell_type": "code",
   "execution_count": 33,
   "metadata": {},
   "outputs": [
    {
     "name": "stdout",
     "output_type": "stream",
     "text": [
      "[(1, ('F', 'c')), (1, ('F', 'd')), (2, ('F', 'r')), (2, ('F', 'b')), (5, ('F', 'a'))]\n",
      "Tas initial : [(1, ('F', 'c')), (1, ('F', 'd')), (2, ('F', 'r')), (2, ('F', 'b')), (5, ('F', 'a'))]\n",
      "Étape 0 : [(2, ('F', 'b')), (2, ('N', (1, ('F', 'c')), (1, ('F', 'd')))), (2, ('F', 'r')), (5, ('F', 'a'))]\n",
      "Étape 1 : [(2, ('N', (1, ('F', 'c')), (1, ('F', 'd')))), (5, ('F', 'a')), (4, ('N', (2, ('F', 'b')), (2, ('F', 'r'))))]\n",
      "Étape 2 : [(5, ('F', 'a')), (6, ('N', (2, ('N', (1, ('F', 'c')), (1, ('F', 'd')))), (4, ('N', (2, ('F', 'b')), (2, ('F', 'r'))))))]\n",
      "Étape 3 : [(11, ('N', (5, ('F', 'a')), (6, ('N', (2, ('N', (1, ('F', 'c')), (1, ('F', 'd')))), (4, ('N', (2, ('F', 'b')), (2, ('F', 'r'))))))))]\n",
      "(11, ('N', (5, ('F', 'a')), (6, ('N', (2, ('N', (1, ('F', 'c')), (1, ('F', 'd')))), (4, ('N', (2, ('F', 'b')), (2, ('F', 'r'))))))))\n"
     ]
    }
   ],
   "source": [
    "\n",
    "def faireArbre(tas, aff=False):#aff pour l'affichage\n",
    "    n = len(tas)\n",
    "    if aff : print('Tas initial :', tas)\n",
    "    for k in range(n - 1): # il y a n feuilles, il y aura n-1 nœuds binaires\n",
    "        x = suppressionDeLaRacine(tas)#on extrait l'arbre de plus petit poids (occurrence) et on réordonne le tas \n",
    "        y = suppressionDeLaRacine(tas)#on extrait l'arbre de plus petit poids (occurrence) et on réordonne le tas \n",
    "        ## les deux t-uplets précédents contiennent les 2 arbres de plus petit point du tas \n",
    "        z = ('N', x, y) #on crée le nœud\n",
    "        rajouterElement(tas, (x[0] + y[0], z))#on l'ajoute au tas, et on réarrange le tas\n",
    "        if aff: print('Étape %d : %s' % (k, tas))\n",
    "    return suppressionDeLaRacine(tas) #on extrait l'arbre de huffman. A la fin le tas est composé d'une liste avec pour premiere valeur la somme de toutes les occurrences, et en deuxième (indice 1) l'arbre proprement dit\n",
    "#### Pour tester :\n",
    "if True :\n",
    "    phrase2 =\"abracadabra\" #pour plus de facilité, une phrase courte, possédant peu de caractére différents\n",
    "    dicOccu=creationDictionnaireoccurrence(phrase2)\n",
    "    tas = []\n",
    "    tas = conversionDictionnaireoccurrenceEnTas(dicOccu)\n",
    "    print(tas)\n",
    "    \n",
    "    A = faireArbre(tas,True)\n",
    "    print (A)"
   ]
  },
  {
   "cell_type": "markdown",
   "metadata": {},
   "source": [
    "<div class=\"alert alert-warning\" role=\"alert\">\n",
    "Correction de la fonction faireArbre:  \n",
    "    \n",
    "   - Terminaison : \n",
    "     - Boucle for, qui s'effectue n fois, (et les fonctions suppressionDeLaRacine et rajouterElement se terminent)\n",
    "     - Complexité : La boucle s'exécute n fois, et  les fonctions suppressionDeLaRacine et rajouterElement sont en O(log n), donc faireArbre est en O(n log(n))\n",
    "     \n",
    "     \n",
    "\n",
    "   - Validité : \n",
    "      - L'algorithme est bien celui de Huffman, pour ce qui est de la démonstration que le code de huffman est optimal, on trouve la démonstration dans la littérature, et je ne la recopierai pas ici.\n",
    "       \n"
   ]
  },
  {
   "cell_type": "markdown",
   "metadata": {},
   "source": [
    "### Construction de l'arbre en utilisant des listes et sans les tas ###"
   ]
  },
  {
   "cell_type": "markdown",
   "metadata": {},
   "source": [
    "Cet algorithme ressemble directement à la méthode employée lorsqu'on fait l'arbre d'Huffman \" à la main\".  \n",
    "\n",
    "#### Les fonctions nécessaires pour manipuler les tas binaires ####\n",
    "fonction recherche du min   \n",
    "fonction supprimer des éléments d'une liste (on utilisera pop)     \n",
    "fonction associer deux nœuds     \n",
    "fonction ajouter un élément dans la liste (append)    \n",
    "\n",
    "#### Algorithme :\n",
    "tant que la liste contient plus de 1 élément :\n",
    "   on recherche les deux plus petits éléments de la liste\n",
    "   on les supprime de la liste\n",
    "   on les associe, on les fusionne\n",
    "   on les place à la fin de la liste\n",
    "   \n",
    "par récursivité :\n",
    "  si le nombre d'élément de la liste est = à 1, on retourne la liste\n",
    "  sinon on appelle la fonction avec la liste dans laquelle on a supprimé les deux plus petits éléments et rajouté, la fusion des deux éléments supprimés"
   ]
  },
  {
   "cell_type": "code",
   "execution_count": 34,
   "metadata": {},
   "outputs": [],
   "source": [
    "def mini (liste):\n",
    "    '''entrée : liste contenant des tuples(occurrence,('F', caractere)) ou (occurrence,('N', e1, e2))si feuille ou noeud\n",
    "    sortie : l élement de poids (occurence) la plus petite, et son indice '''\n",
    "    mini = liste[0][0]\n",
    "    indiceDuMin =0\n",
    "    for i in range (1,len(liste)):\n",
    "        if mini>liste[i][0]:\n",
    "            mini = liste[i][0]\n",
    "            indiceDuMin = i\n",
    "            print (indiceDuMin)\n",
    "    return liste[indiceDuMin],indiceDuMin\n",
    "\n",
    "def supprimerElemeParIndice (liste,i) :\n",
    "    '''supprime l élément i de la liste'''\n",
    "    liste.pop(i)\n",
    "    \n",
    "def fusion (e1,e2):\n",
    "    '''entrée : deux éléments du type (occurrence,('F', caractere)) ou (occurrence,('N', elem1, elem2))\n",
    "    sortie : un nouvel élément du type (somme_occurrence,('N', e1, e2))'''\n",
    "    e3occu = e1[0]+e2[0]\n",
    "    return(e3occu ,('N', e1,e2))\n",
    "\n",
    "def ajouterElement (liste,e) :\n",
    "    '''ajoute l élément e à la fin de la liste'''\n",
    "    liste.append(e)"
   ]
  },
  {
   "cell_type": "code",
   "execution_count": 35,
   "metadata": {},
   "outputs": [
    {
     "name": "stdout",
     "output_type": "stream",
     "text": [
      "1\n",
      "3\n",
      "elem1  (1, ('F', 'c')) 3\n",
      "[(5, ('F', 'a')), (2, ('F', 'b')), (2, ('F', 'r')), (1, ('F', 'c')), (1, ('F', 'd'))]\n",
      "1\n",
      "3\n",
      "elem2  (1, ('F', 'd')) 3\n",
      "[(5, ('F', 'a')), (2, ('F', 'b')), (2, ('F', 'r'))]\n",
      "elem3  (2, ('N', (1, ('F', 'c')), (1, ('F', 'd'))))\n",
      "1\n",
      "elem1  (2, ('F', 'b')) 1\n",
      "[(5, ('F', 'a')), (2, ('F', 'b')), (2, ('F', 'r')), (1, ('F', 'c')), (1, ('F', 'd'))]\n",
      "1\n",
      "elem2  (2, ('F', 'r')) 1\n",
      "[(5, ('F', 'a')), (2, ('N', (1, ('F', 'c')), (1, ('F', 'd'))))]\n",
      "elem3  (4, ('N', (2, ('F', 'b')), (2, ('F', 'r'))))\n",
      "1\n",
      "elem1  (2, ('N', (1, ('F', 'c')), (1, ('F', 'd')))) 1\n",
      "[(5, ('F', 'a')), (2, ('F', 'b')), (2, ('F', 'r')), (1, ('F', 'c')), (1, ('F', 'd'))]\n",
      "1\n",
      "elem2  (4, ('N', (2, ('F', 'b')), (2, ('F', 'r')))) 1\n",
      "[(5, ('F', 'a'))]\n",
      "elem3  (6, ('N', (2, ('N', (1, ('F', 'c')), (1, ('F', 'd')))), (4, ('N', (2, ('F', 'b')), (2, ('F', 'r'))))))\n",
      "elem1  (5, ('F', 'a')) 0\n",
      "[(5, ('F', 'a')), (2, ('F', 'b')), (2, ('F', 'r')), (1, ('F', 'c')), (1, ('F', 'd'))]\n",
      "elem2  (6, ('N', (2, ('N', (1, ('F', 'c')), (1, ('F', 'd')))), (4, ('N', (2, ('F', 'b')), (2, ('F', 'r')))))) 0\n",
      "[]\n",
      "elem3  (11, ('N', (5, ('F', 'a')), (6, ('N', (2, ('N', (1, ('F', 'c')), (1, ('F', 'd')))), (4, ('N', (2, ('F', 'b')), (2, ('F', 'r'))))))))\n",
      "(11, ('N', (5, ('F', 'a')), (6, ('N', (2, ('N', (1, ('F', 'c')), (1, ('F', 'd')))), (4, ('N', (2, ('F', 'b')), (2, ('F', 'r'))))))))\n",
      "[(5, ('F', 'a')), (2, ('F', 'b')), (2, ('F', 'r')), (1, ('F', 'c')), (1, ('F', 'd'))]\n"
     ]
    }
   ],
   "source": [
    "from copy import deepcopy\n",
    "def faireArbreAvecListe (listeOccu):\n",
    "    liste = deepcopy(listeOccu)\n",
    "    while (len(liste)>1) :\n",
    "        elem1,indiceElem1 = mini (liste)\n",
    "        print('elem1 ',elem1,indiceElem1)\n",
    "        supprimerElemeParIndice (liste,indiceElem1)\n",
    "\n",
    "        print (listeOccu)\n",
    "\n",
    "        elem2,indiceElem2 = mini (liste)\n",
    "        print('elem2 ',elem2,indiceElem2)\n",
    "        supprimerElemeParIndice (liste,indiceElem2)\n",
    "        print (liste)\n",
    "\n",
    "        elem3 = fusion(elem1,elem2)\n",
    "\n",
    "\n",
    "        print('elem3 ' ,elem3)\n",
    "        ajouterElement (liste,elem3)\n",
    "    return liste[0]\n",
    "\n",
    "phrase2 ='abracadabra'\n",
    "listeOccu=conversionDictionnaireoccurrenceEnListe(creationDictionnaireoccurrence(phrase2))\n",
    "arbre = faireArbreAvecListe(listeOccu)\n",
    "print (arbre)\n",
    "print (listeOccu)"
   ]
  },
  {
   "cell_type": "markdown",
   "metadata": {},
   "source": [
    "<div class=\"alert alert-warning\" role=\"alert\">\n",
    "Correction de la fonction faireArbreAvecListe:  \n",
    "    \n",
    "   - Terminaison : \n",
    "     - La taille de la liste diminue à chaque itération, donc la boucle se termine\n",
    "   - Complexité : \n",
    "     1. La copie de la liste est en O(n)  \n",
    "     2. A chaque itération : \n",
    "         - extraire 2 fois l’arbre de poids min, (il faut parcourir toute la liste-qui certe diminue à chaque itération)\n",
    "         - fusionner pour créer un nouvel arbre à partir des 2 précédents :O(1)\n",
    "         - rajouter ce nouvel arbre à la fin. \n",
    "     3. n itérations  \n",
    "     La complexité est donc en O(n^2)\n",
    "     \n",
    "     \n",
    "\n",
    "   - Validité : Il faut vérifier qu'à la fin, la liste contient bien 1 seul élément constitué de l'arbre de Huffman\n",
    "     - Invariant de boucle : A la fin d'une itération, le dernier éléménet de la liste est contitué de l'arbre d'Huffman correspondant aux k caractéres les moins présents dans le texte.\n",
    "    \n",
    "     - Par récursivité :\n",
    "       - La première itération, fusionne les deux caractéres les moins présents et range ce nouvel élément à la fin de la liste   \n",
    "       - A chaque itération, on fusionne les deux éléments de poids les plus faibles, et ajoute le nouvel élément à la fin.La longueur de la liste diminue de 1\n",
    "       - On sort de la boucle, lorsqu'elle ne contient plus qu'un élément, qui contient bien l'arbre de Huffman.\n",
    "        \n",
    "      \n",
    "**La construction de l’arbre de Huffman avec des listes et sans utiliser les tas est donc en O(n^2) alors qu'avec les tas, elle est en O(n.log(n))**"
   ]
  },
  {
   "cell_type": "markdown",
   "metadata": {},
   "source": [
    "\n",
    "<div id =\"table_codage\">\n",
    "    <h1> 3. Construction du dictionnaire (table de codage)</h1>\n",
    "  "
   ]
  },
  {
   "cell_type": "markdown",
   "metadata": {},
   "source": [
    "Pour construire le dictionnaire qui à chaque caractère associe le code binaire, il faut parcourir l'arbre. Le parcours se fait en profondeur, et est dans l'ordre préfixe. On s'arréte quand on trouve une feuille, le chemin suivi correspond au code du caractére."
   ]
  },
  {
   "cell_type": "code",
   "execution_count": 36,
   "metadata": {},
   "outputs": [
    {
     "name": "stdout",
     "output_type": "stream",
     "text": [
      "(1, ('F', 'a'))\n",
      "Dico =\n",
      " {'a': '0'} \n",
      "\n"
     ]
    }
   ],
   "source": [
    "\n",
    "\n",
    "def parcours(arbre,chemin,code) :\n",
    "    '''Entrée : arbre binaire (sous arbre de l'arbre initial), chemin (binaire) suivi dans l'arbre initial jusqu'au \"sous arbre\",\n",
    "    code, contient le dictionnaire qui se remplit lorsqu une feuille est atteinte'''\n",
    "    \n",
    "    # sur une feuille, on peut associer ce qui est dans chemin à la lettre (et on remplit le dictionnaire)\n",
    "    if arbre[1][0] =='F' :\n",
    "        \n",
    "        code[arbre[1][1]] = chemin\n",
    "        return\n",
    "    \n",
    "    # sinon, on parcourt l'arbre en mémorisant le chemin pris dans la variable chemin\n",
    "    \n",
    "    parcours(arbre[1][1],chemin+'0',code) #fils de gauche\n",
    "    \n",
    "    parcours(arbre[1][2],chemin+'1',code)#fils de droite\n",
    "\n",
    "def code_huffman(arbre) :\n",
    "    # on remplit le dictionnaire du code d'Huffman en parcourant l'arbre\n",
    "    code = {}\n",
    "    if len(arbre[1])>2 :\n",
    "        parcours(arbre,'',code)\n",
    "        \n",
    "    else : #Si le texte ne comporte qu'un seul caractère\n",
    "        code[arbre[1][1]] = '0'\n",
    "    return code\n",
    "phrase ='a'\n",
    "listeOccu=conversionDictionnaireoccurrenceEnTas(creationDictionnaireoccurrence(phrase))\n",
    "arbre = faireArbre(listeOccu)\n",
    "print(arbre)\n",
    "dico={}\n",
    "dico = code_huffman(arbre)\n",
    "print('Dico =\\n',dico,'\\n')"
   ]
  },
  {
   "cell_type": "markdown",
   "metadata": {},
   "source": [
    "<div class=\"alert alert-warning\" role=\"alert\">\n",
    "Correction de la fonction :  \n",
    "    \n",
    "   - Terminaison : \n",
    "     - L'algorithme est ici récursif, le parcours se fait en préfixe, jusqu'à chacune des feuilles, et se termine\n",
    "     - Complexité : \n",
    "        - Pour aller de la racine à la feuille, il y a au max, un nombre de noeud correspondant à la hauteur de l'arbre. Or la hauteur de l'arbre est en O(log(n)).\n",
    "        - Le nombre de caractère est en O(n).\n",
    "        - Donc la créaction du dictionnaire est en O(n log(n))\n",
    "     \n",
    "     \n",
    "\n",
    "   - Validité : le dictionnaire est rempli au fur et à mesure, que l'on trouve une feuille. Toutes les feuilles sont atteintes.\n",
    "    "
   ]
  },
  {
   "cell_type": "markdown",
   "metadata": {},
   "source": [
    "\n",
    "<div id =\"codage\">\n",
    "    <h1> 4. Encodage d'un texte à partir du dictionnaire</h1>"
   ]
  },
  {
   "cell_type": "markdown",
   "metadata": {},
   "source": [
    "A partir d'un fichier "
   ]
  },
  {
   "cell_type": "code",
   "execution_count": 37,
   "metadata": {},
   "outputs": [],
   "source": [
    "def encodageFichier(dico,fichier) :\n",
    "    \n",
    "    f_in = open(fichier,'r',encoding='utf-8')\n",
    "    texte = f_in.read()\n",
    "    f_in.close()\n",
    "    \n",
    "    caracteresPresentsDico = [c for c in dico.keys()]\n",
    "    binaire = ''\n",
    "    for car in texte :\n",
    "        if car in caracteresPresentsDico :\n",
    "            binaire = binaire + dico[car]\n",
    "        else :\n",
    "            binaire = binaire + dico[' ']\n",
    "    return binaire"
   ]
  },
  {
   "cell_type": "markdown",
   "metadata": {},
   "source": [
    "A  partir d'un texte contenu dans une variable :"
   ]
  },
  {
   "cell_type": "code",
   "execution_count": 38,
   "metadata": {},
   "outputs": [
    {
     "name": "stdout",
     "output_type": "stream",
     "text": [
      "(11, ('N', (5, ('F', 'a')), (6, ('N', (2, ('N', (1, ('F', 'c')), (1, ('F', 'd')))), (4, ('N', (2, ('F', 'b')), (2, ('F', 'r'))))))))\n",
      "Dico =\n",
      " {'a': '0', 'c': '100', 'd': '101', 'b': '110', 'r': '111'} \n",
      "\n",
      "01101110100010101101110\n"
     ]
    }
   ],
   "source": [
    "def encodage(dico,texte) :\n",
    "\n",
    "    caracteresPresentsDico = [c for c in dico.keys()]\n",
    "    binaire = ''    \n",
    "    for car in texte :\n",
    "        if car in caracteresPresentsDico :\n",
    "            binaire = binaire + dico[car]\n",
    "        else :\n",
    "            binaire = binaire + dico[' ']\n",
    "    return binaire\n",
    "phrase ='abracadabra'\n",
    "listeOccu=conversionDictionnaireoccurrenceEnTas(creationDictionnaireoccurrence(phrase))\n",
    "arbre = faireArbre(listeOccu)\n",
    "print(arbre)\n",
    "dico={}\n",
    "dico = code_huffman(arbre)\n",
    "print('Dico =\\n',dico,'\\n')\n",
    "binaire = encodage(dico,phrase)\n",
    "print(binaire)"
   ]
  },
  {
   "cell_type": "markdown",
   "metadata": {},
   "source": [
    "<div class=\"alert alert-warning\" role=\"alert\">\n",
    "Complexité de la fonction :  \n",
    "    Le texte est parcouru caractère, par caractère, donc la complexité est en O(n).   \n",
    "    L'opérateur in pour un dictionnaire est en moyenne en O(1) (voir <a href =\"https://wiki.python.org/moin/TimeComplexity\">ici</a>)"
   ]
  },
  {
   "cell_type": "markdown",
   "metadata": {},
   "source": [
    "### Conclusion sur la complexité.###\n",
    "<div class=\"alert alert-warning\" role=\"alert\">\n",
    "\n",
    "\n",
    "**Les différentes étapes en utilisant la structure de tas, sont toutes en O(n) ou en O(n log(n)), donc la totalité\n",
    "des opération est en O(n log(n)).**\n",
    "    "
   ]
  },
  {
   "cell_type": "markdown",
   "metadata": {},
   "source": [
    "# II. Décompression\n",
    "\n",
    "## 1. Décodage d'un fichier compressé"
   ]
  },
  {
   "cell_type": "markdown",
   "metadata": {},
   "source": [
    "Il faut fournir l'arbre de Huffman, car il n'est pas unique (de manière générale, ici l'implémentation faite fourni le même arbre à chaque fois, mais de manière générale il existe plusieurs arbres de Huffman pour une même entrée)."
   ]
  },
  {
   "cell_type": "code",
   "execution_count": 39,
   "metadata": {},
   "outputs": [],
   "source": [
    "def decodageFichier(arbre,fichierCompresse) :\n",
    "\n",
    "    # recopie du contenu du fichier\n",
    "    f_in = open(fichierCompresse,'r',encoding='utf-8')\n",
    "    compresse = f_in.read()\n",
    "    f_in.close()\n",
    "\n",
    "    huffman = arbre\n",
    "    texte = ''\n",
    "\n",
    "    # parcours de l'arbre d'Huffman en fonction du bit lu \n",
    "    for bit in compresse :\n",
    "        \n",
    "        if bit == '0' :\n",
    "            arbre = arbre[1] #fils de gauche\n",
    "        else : \n",
    "            arbre = arbre[2] #fils de droite\n",
    "\n",
    "        # sur une feuille, on décode une lettre et on repart à la racine\n",
    "        if arbre[0] =='F' :\n",
    "            texte = texte + arbre[1]\n",
    "            arbre = huffman\n",
    "    return texte"
   ]
  },
  {
   "cell_type": "code",
   "execution_count": 40,
   "metadata": {},
   "outputs": [
    {
     "name": "stdout",
     "output_type": "stream",
     "text": [
      "(66, ('N', (28, ('N', (12, ('F', ' ')), (16, ('N', (8, ('N', (4, ('F', 'l')), (4, ('F', 'o')))), (8, ('N', (4, ('N', (2, ('F', 'c')), (2, ('F', 'g')))), (4, ('N', (2, ('F', 's')), (2, ('F', 'x')))))))))), (38, ('N', (17, ('N', (8, ('N', (4, ('N', (2, ('N', (1, ('F', \"'\")), (1, ('F', '.')))), (2, ('N', (1, ('F', 'C')), (1, ('F', 'a')))))), (4, ('N', (2, ('N', (1, ('F', 'i')), (1, ('F', 'm')))), (2, ('N', (1, ('F', 'r')), (1, ('F', 'à')))))))), (9, ('F', 'e')))), (21, ('N', (10, ('N', (5, ('F', 'p')), (5, ('F', 't')))), (11, ('N', (5, ('F', 'u')), (6, ('N', (3, ('F', 'd')), (3, ('F', 'n'))))))))))))\n",
      "Dico =\n",
      " {' ': '00', 'l': '0100', 'o': '0101', 'c': '01100', 'g': '01101', 's': '01110', 'x': '01111', \"'\": '100000', '.': '100001', 'C': '100010', 'a': '100011', 'i': '100100', 'm': '100101', 'r': '100110', 'à': '100111', 'e': '101', 'p': '1100', 't': '1101', 'u': '1110', 'd': '11110', 'n': '11111'} \n",
      "\n",
      "100010010111110100011011011010011110100000111011111001101101011111101101001110111110011001011101100100110100110010111100011000100111001110000100010111111011010010111010011000100111001110000110001011001011100010010101111101001001110001100010111110101100110100001\n",
      "1\n",
      "0\n",
      "0\n",
      "0\n",
      "1\n",
      "0\n",
      "0\n",
      "1\n",
      "0\n",
      "1\n",
      "1\n",
      "1\n",
      "1\n",
      "1\n",
      "0\n",
      "1\n",
      "0\n",
      "0\n",
      "0\n",
      "1\n",
      "1\n",
      "0\n",
      "1\n",
      "1\n",
      "0\n",
      "1\n",
      "1\n",
      "0\n",
      "1\n",
      "0\n",
      "0\n",
      "1\n",
      "1\n",
      "1\n",
      "1\n",
      "0\n",
      "1\n",
      "0\n",
      "0\n",
      "0\n",
      "0\n",
      "0\n",
      "1\n",
      "1\n",
      "1\n",
      "0\n",
      "1\n",
      "1\n",
      "1\n",
      "1\n",
      "1\n",
      "0\n",
      "0\n",
      "1\n",
      "1\n",
      "0\n",
      "1\n",
      "1\n",
      "0\n",
      "1\n",
      "0\n",
      "1\n",
      "1\n",
      "1\n",
      "1\n",
      "1\n",
      "1\n",
      "0\n",
      "1\n",
      "1\n",
      "0\n",
      "1\n",
      "0\n",
      "0\n",
      "1\n",
      "1\n",
      "1\n",
      "0\n",
      "1\n",
      "1\n",
      "1\n",
      "1\n",
      "1\n",
      "0\n",
      "0\n",
      "1\n",
      "1\n",
      "0\n",
      "0\n",
      "1\n",
      "0\n",
      "1\n",
      "1\n",
      "1\n",
      "0\n",
      "1\n",
      "1\n",
      "0\n",
      "0\n",
      "1\n",
      "0\n",
      "0\n",
      "1\n",
      "1\n",
      "0\n",
      "1\n",
      "0\n",
      "0\n",
      "1\n",
      "1\n",
      "0\n",
      "0\n",
      "1\n",
      "0\n",
      "1\n",
      "1\n",
      "1\n",
      "1\n",
      "0\n",
      "0\n",
      "0\n",
      "1\n",
      "1\n",
      "0\n",
      "0\n",
      "0\n",
      "1\n",
      "0\n",
      "0\n",
      "1\n",
      "1\n",
      "1\n",
      "0\n",
      "0\n",
      "1\n",
      "1\n",
      "1\n",
      "0\n",
      "0\n",
      "0\n",
      "0\n",
      "1\n",
      "0\n",
      "0\n",
      "0\n",
      "1\n",
      "0\n",
      "1\n",
      "1\n",
      "1\n",
      "1\n",
      "1\n",
      "1\n",
      "0\n",
      "1\n",
      "1\n",
      "0\n",
      "1\n",
      "0\n",
      "0\n",
      "1\n",
      "0\n",
      "1\n",
      "1\n",
      "1\n",
      "0\n",
      "1\n",
      "0\n",
      "0\n",
      "1\n",
      "1\n",
      "0\n",
      "0\n",
      "0\n",
      "1\n",
      "0\n",
      "0\n",
      "1\n",
      "1\n",
      "1\n",
      "0\n",
      "0\n",
      "1\n",
      "1\n",
      "1\n",
      "0\n",
      "0\n",
      "0\n",
      "0\n",
      "1\n",
      "1\n",
      "0\n",
      "0\n",
      "0\n",
      "1\n",
      "0\n",
      "1\n",
      "1\n",
      "0\n",
      "0\n",
      "1\n",
      "0\n",
      "1\n",
      "1\n",
      "1\n",
      "0\n",
      "0\n",
      "0\n",
      "1\n",
      "0\n",
      "0\n",
      "1\n",
      "0\n",
      "1\n",
      "0\n",
      "1\n",
      "1\n",
      "1\n",
      "1\n",
      "1\n",
      "0\n",
      "1\n",
      "0\n",
      "0\n",
      "1\n",
      "0\n",
      "0\n",
      "1\n",
      "1\n",
      "1\n",
      "0\n",
      "0\n",
      "0\n",
      "1\n",
      "1\n",
      "0\n",
      "0\n",
      "0\n",
      "1\n",
      "0\n",
      "1\n",
      "1\n",
      "1\n",
      "1\n",
      "1\n",
      "0\n",
      "1\n",
      "0\n",
      "1\n",
      "1\n",
      "0\n",
      "0\n",
      "1\n",
      "1\n",
      "0\n",
      "1\n",
      "0\n",
      "0\n",
      "0\n",
      "0\n",
      "1\n",
      "Codage d'un texte un petit peu plus long et plus complexe à coder.\n"
     ]
    }
   ],
   "source": [
    "def decodage(arbre,binaire) :\n",
    "\n",
    "    huffman = arbre\n",
    "    texte = ''\n",
    "\n",
    "    # parcours de l'arbre d'Huffman en fonction du bit lu \n",
    "    for bit in binaire :\n",
    "        print (bit)\n",
    "        if bit == '0' :\n",
    "            arbre = arbre[1][1] #fils de gauche\n",
    "        else : \n",
    "            arbre = arbre[1][2] #fils de droite\n",
    "\n",
    "        # sur une feuille, on décode une lettre et on repart à la racine\n",
    "        if arbre[1][0] =='F' :\n",
    "            texte = texte + arbre[1][1]\n",
    "            arbre = huffman\n",
    "    return texte\n",
    "phrase =\"Codage d'un texte un petit peu plus long et plus complexe à coder.\"\n",
    "listeOccu=conversionDictionnaireoccurrenceEnTas(creationDictionnaireoccurrence(phrase))\n",
    "arbre = faireArbre(listeOccu)\n",
    "print(arbre)\n",
    "dico={}\n",
    "dico = code_huffman(arbre)\n",
    "print('Dico =\\n',dico,'\\n')\n",
    "binaire = encodage(dico,phrase)\n",
    "print(binaire)\n",
    "print(decodage (arbre,binaire))"
   ]
  },
  {
   "cell_type": "markdown",
   "metadata": {},
   "source": [
    "<div class=\"alert alert-warning\" role=\"alert\">\n",
    "<b>Correction :</b> \n",
    "    \n",
    "<b> -Terminaison:</b>  boucle for qui se termine après n itérations (avec n nombres de bits du message codé).\n",
    "\n",
    "<b> -Validité:</b>  Le parcours de l’arbre se termine toujours par une feuille et dans notre cas, le caractère est toujours présent dans l’arbre.\n",
    "\n",
    "<b> Complexité :</b> \n",
    "\n",
    "Il y a 2 comparaisons et 3 affectations par passage dans la boucle for. On a donc une complexité O(n) = 5n complexité linéaire.\n",
    "Pour mieux comprendre ce qui se passe, on peut par exemple faire apparaître au fur et à mesure le décodage."
   ]
  },
  {
   "cell_type": "markdown",
   "metadata": {},
   "source": [
    "## 2. Exemple illustré\n",
    "Prenons une phrase assez courte : \n",
    "<center><b>« en juillet, encore le projet »</b></center>\n",
    "\n",
    "Le codage donne comme sortie le code suivant : \n",
    "<center><b>11010100001110011101111100010010001010111010110010001111010111100000110100001111111110010111001001010</b></center>\n",
    "\n",
    "Avec l’arbre généré par la fonction qui sera :\n",
    "('N',  (12,   ('N',    (6, ('F', 'e')),    (6,     ('N', (3, ('F', 'l')), (3, ('N', (1, ('F', 'p')), (2, ('F', 'n')))))))),  (16,   ('N',    (8, ('N', (4, ('F', ' ')), (4, ('N', (2, ('F', 'j')), (2, ('F', 't')))))),    (8,     ('N',      (4, ('N', (2, ('F', 'o')), (2, ('F', 'r')))),      (4,       ('N',        (2, ('N', (1, ('F', 'u')), (1, ('F', 'i')))),        (2, ('N', (1, ('F', ',')), (1, ('F', 'c'))))))))))))\n",
    "\n",
    "Qu’il est plus simple pour nous de mettre sous forme d’un tableau (il s'agit du dicoSortie):\n",
    "\n",
    "|lettre|e | l | p  |  n |‘ ‘|  j | t  | o  | r  |   u  |  i  |  ,  |  c  |\n",
    "|------|--|---|----|----|---|----|----|----|----|------|---- |-----|-----|\n",
    "| code |00|010|0110|0111|100|1010|1011|1100|1101|111000|11101|11110|11111|\n",
    "\n",
    "\n",
    "En modifiant la fonction initiale, il est possible de faire apparaître le travail de décodage "
   ]
  },
  {
   "cell_type": "code",
   "execution_count": 41,
   "metadata": {
    "scrolled": true
   },
   "outputs": [
    {
     "name": "stdout",
     "output_type": "stream",
     "text": [
      "e -- 01111001010111001110101001000101111110100000111111111100110100100010001000110110111001010001011\n",
      "en -- 1001010111001110101001000101111110100000111111111100110100100010001000110110111001010001011\n",
      "en  -- 1010111001110101001000101111110100000111111111100110100100010001000110110111001010001011\n",
      "en j -- 111001110101001000101111110100000111111111100110100100010001000110110111001010001011\n",
      "en ju -- 1110101001000101111110100000111111111100110100100010001000110110111001010001011\n",
      "en jui -- 01001000101111110100000111111111100110100100010001000110110111001010001011\n",
      "en juil -- 01000101111110100000111111111100110100100010001000110110111001010001011\n",
      "en juill -- 00101111110100000111111111100110100100010001000110110111001010001011\n",
      "en juille -- 101111110100000111111111100110100100010001000110110111001010001011\n",
      "en juillet -- 11110100000111111111100110100100010001000110110111001010001011\n",
      "en juillet, -- 100000111111111100110100100010001000110110111001010001011\n",
      "en juillet,  -- 000111111111100110100100010001000110110111001010001011\n",
      "en juillet, e -- 0111111111100110100100010001000110110111001010001011\n",
      "en juillet, en -- 111111100110100100010001000110110111001010001011\n",
      "en juillet, enc -- 1100110100100010001000110110111001010001011\n",
      "en juillet, enco -- 110100100010001000110110111001010001011\n",
      "en juillet, encor -- 00100010001000110110111001010001011\n",
      "en juillet, encore -- 100010001000110110111001010001011\n",
      "en juillet, encore  -- 010001000110110111001010001011\n",
      "en juillet, encore l -- 001000110110111001010001011\n",
      "en juillet, encore le -- 1000110110111001010001011\n",
      "en juillet, encore le  -- 0110110111001010001011\n",
      "en juillet, encore le p -- 110111001010001011\n",
      "en juillet, encore le pr -- 11001010001011\n",
      "en juillet, encore le pro -- 1010001011\n",
      "en juillet, encore le proj -- 001011\n",
      "en juillet, encore le proje -- 1011\n",
      "en juillet, encore le projet -- \n"
     ]
    },
    {
     "data": {
      "text/plain": [
       "'en juillet, encore le projet'"
      ]
     },
     "execution_count": 41,
     "metadata": {},
     "output_type": "execute_result"
    }
   ],
   "source": [
    "def decodageExplicite(arbre,binaire) :\n",
    "    huffman = arbre    \n",
    "    texte=''\n",
    "    code=list(binaire) #converti en liste pour supprimer des éléments\n",
    "    for bit in binaire : \n",
    "        nbBit=0\n",
    "        if bit == '0' :\n",
    "            arbre = arbre[1][1] #fils de gauche\n",
    "        else : \n",
    "            arbre = arbre[1][2] #fils de droite\n",
    "    \n",
    "        # sur une feuille, on décode une lettre et on repart à la racine\n",
    "        if arbre[1][0] =='F' :\n",
    "            texte = texte + arbre[1][1]\n",
    "            nbBit=len(dicoSortie[arbre[1][1]])        \n",
    "            arbre = huffman        \n",
    "            for i in range(0,nbBit):\n",
    "                del code[0]\n",
    "            sortie= \"\".join(code)\n",
    "            print(texte,\"--\",sortie)\n",
    "    return texte\n",
    "\n",
    "\"\"\"\n",
    "texte=\"en juillet, encore le projet\"\n",
    "dico=creationDictionnaireOccurence(texte)\n",
    "liste=conversionDictionnaireOccurenceEnListe(dico)\n",
    "arbre = faireArbreAvecListe(liste)\n",
    "dicoSortie = code_huffman(arbre)\n",
    "binaire = encodage(dicoSortie,texte)\n",
    "\"\"\"\n",
    "arbre=(28, ('N',(12,('N',(6, ('F', 'e')),(6,('N', (3, ('F', 'l')), (3, ('N', (1, ('F', 'p')), (2, ('F', 'n')))))))),(16,('N',(8,('N',(4,('F',' ')),(4,('N', (2,('F', 'j')), (2, ('F','t')))))),\n",
    "    (8,('N',(4, ('N', (2, ('F', 'o')), (2, ('F', 'r')))),(4,('N',(2, ('N', (1, ('F', 'u')), (1, ('F', 'i')))),(2, ('N', (1, ('F', ',')), (1, ('F', 'c'))))))))))))\n",
    "dicoSortie={'e': '00', 'l': '010', 'p': '0110', 'n': '0111', ' ': '100', 'j': '1010', 't': '1011', 'o': '1100', 'r': '1101', 'u': '11100', 'i': '11101', ',': '11110', 'c': '11111'}\n",
    "binaire='0001111001010111001110101001000101111110100000111111111100110100100010001000110110111001010001011'\n",
    "decodageExplicite(arbre,binaire)"
   ]
  },
  {
   "cell_type": "markdown",
   "metadata": {},
   "source": [
    "# III Analyse des résultats obtenus\n"
   ]
  },
  {
   "cell_type": "markdown",
   "metadata": {},
   "source": [
    "### 1. Rapport entre le texte initial et le texte compressé\n",
    "Pour voir à l’usage la qualité du programme fait, j’ai comparé le taux de compression réalisé par le programme pour différents fichiers texte.\n",
    "Pour commencer j’ai pris des romans en français de différentes longueurs.\n",
    "La compression est définie comme le rapport entre le nombre de bits que fait le texte compressé et celui de texte initial.\n",
    "\n",
    "|Roman|Taille initiale(bits)|Taille compressée(bits)|Nombre de caractères différents|Codage sur nombre de bits|Taux de compression|\n",
    "|:---:|:-------------------:|:---------------------:|:-----------------------------:|:-----------------------:|:-------------------:|\n",
    "|4 fables|36360|20416|72|2 à 12|56 %|\n",
    "|Candide|1611640|917975|95|3 à 17|56 %|\n",
    "|Le Horla|2130432|1231817|101|3 à 18|57 %|\n",
    "|Intégrale des fables|4272944|2378855|108|2 à 20|55 %|\n",
    "|Guerre et Paix|23187896|13177059|110|3 à 21|56 %|\n",
    "|Les misérables|26010384|14838532|119|3 à 22|57 %|\n",
    "|3 tomes de la comédie humaine|27394856|15409650|109|3 à 21|56 %|\n",
    "\n",
    "La taille du texte ne semble pas avoir d’importance sur le taux de compression.\n",
    "Pour le vérifier expérimentalement j’ai créé une fonction qui prend un texte le coupe en différentes tailles, et je vérifie graphiquement le résultat.\n",
    "Voici deux exemples de résultats obtenus pour le Horla de Maupassant et Les misérables de V Hugo.\n",
    "<img src=\"HorlalongV.png\">\n",
    "<img src=\"MiserableslongV1.png\">\n",
    "\n",
    "<b>Remarque :</b> Le code permettant le tracé des courbes est présenté en [annexe](#annexe)."
   ]
  },
  {
   "cell_type": "markdown",
   "metadata": {},
   "source": [
    "### 2. Taille du dictionnaire vs taille du texte"
   ]
  },
  {
   "cell_type": "markdown",
   "metadata": {},
   "source": [
    "La taille du texte ne semble pas avoir d’effet sur le taux de compression mais il est nécessaire de fournir le dictionnaire avec le texte compressé.\n",
    "Dès lors la longueur du texte doit être prise en compte. Si le texte est court, la taille du dictionnaire est significative, mais pour un texte long, cette longueur est négligeable.\n",
    "\n",
    "|Roman|Taille initiale(bits)|Taille compressée(bits)|Taille dictionnaire (bit)|Rapport taille dico/ taille code|\n",
    "|:---:|:-------------------:|:---------------------:|:-----------------------------:|:-----------------------:|\n",
    "|4 fables|36360|20416|1171|5,7 %|\n",
    "|Candide|1611640|917975|1717|0,19%|\n",
    "|Le Horla|2130432|1231817|1851|0,15%|\n",
    "|Intégrale des fables|4272944|2378855|2039|0,086 %|\n",
    "|Guerre et Paix|23187896|13177059|2088|0,015 %|\n",
    "|Les misérables|26010384|14838532|2428|0,016 %|\n",
    "|3 tomes de la comédie humaine|27394856|15409650|2118|0,014 %|\n",
    "\n",
    "\n",
    "<b>Remarque :</b>\n",
    "\n",
    "La taille du dictionnaire a été obtenu par le calcul suivant :\n",
    "$ taille = 8n + n . nb bits du codage $  en bits où n est le nombre total de caractères présents dans le dictionnaire.\n",
    "\n"
   ]
  },
  {
   "cell_type": "code",
   "execution_count": 42,
   "metadata": {},
   "outputs": [
    {
     "name": "stdout",
     "output_type": "stream",
     "text": [
      "la taille du dictinnaire est de 156 bits\n"
     ]
    }
   ],
   "source": [
    "def tailleDico_bit(dico):\n",
    "    \"\"\"Prend en entrée un dictionnaire du type(key:caractère/value:binaire)\n",
    "    retourne un entier : la taille du dictionnaire en bits\n",
    "    \"\"\"\n",
    "    acc=0\n",
    "    for key,value in dico.items():\n",
    "        acc=acc+8+len(value)\n",
    "    return acc\n",
    "\n",
    "dicoSortie={'e': '00', 'l': '010', 'p': '0110', 'n': '0111', ' ': '100', 'j': '1010', 't': '1011', 'o': '1100', 'r': '1101', 'u': '11100', 'i': '11101', ',': '11110', 'c': '11111'}\n",
    "print(\"la taille du dictinnaire est de\",tailleDico_bit(dicoSortie),\"bits\")\n"
   ]
  },
  {
   "cell_type": "markdown",
   "metadata": {},
   "source": [
    "### 3. Influence du nombre de caractères différents composant un texte.\n",
    "\n",
    "Tous ces textes sont à base d’une centaine de caractères différents.\n",
    "Il peut être intéressant de regarder un texte composé d’un petit nombre de caractères.\n",
    "Pour cela nous avons généré un texte aléatoire avec la fonction suivante :"
   ]
  },
  {
   "cell_type": "code",
   "execution_count": 43,
   "metadata": {},
   "outputs": [
    {
     "name": "stdout",
     "output_type": "stream",
     "text": [
      "LANPIHIGJNMAKGBNBEGOJDPICBDNIHONPIOMNHIOJEHPBAGCPFGHHNCOFNFEHGFEDCBNPKEHJPHNLMMMJKBDMGGDKDJNGCHJALOGLIJDACDNKNEIFGKILNOGMHENMCIOIMBBPCGNJNMHGJIIAMAKKOHPBBCBPIMJMIINJPLEDEAOBAAHMJHONLELCKMJNLBJELJDOOAN\n"
     ]
    }
   ],
   "source": [
    "def generateurtexte(longueur,nbrcaracdiff):\n",
    "    \"\"\"\n",
    "    longueur du texte,nombre de caractères différents --> texte\n",
    "    \"\"\"\n",
    "    from random import randint\n",
    "    texte=\"\"\n",
    "    alphareduit=[]\n",
    "    alphabet=[]    \n",
    "    for c in range(65,91):    \n",
    "        alphabet.append(chr(c))\n",
    "    for c in range(97,122):\n",
    "        alphabet.append(chr(c))\n",
    "    for c in [32,46,58,59]:\n",
    "        alphabet.append(chr(c))\n",
    "    alphareduit=alphabet[0:nbrcaracdiff]\n",
    "    \n",
    "    for i in range(0,longueur):\n",
    "        c=randint(0,len(alphareduit)-1)\n",
    "        texte=texte+alphareduit[c]\n",
    "    return texte\n",
    "#Pour exemple génération d'un texte\n",
    "print(generateurtexte(200,16))"
   ]
  },
  {
   "cell_type": "markdown",
   "metadata": {},
   "source": [
    "On peut grâce à python facilement tracer des graphiques montrant la duré du traitement pour un nombre de caractères définis\n",
    "<img src=\"traitement8clongV.png\">\n",
    "\n",
    "On voit que la durée du traitement augmente de façon quasi-linéaire avec le nombre de caractères différents composant le texte. \n",
    "\n",
    "<img src=\"traitement128longV.png\">\n",
    "\n",
    "\n",
    "On retrouve bien la complexité quasi-linéaire rencontrée lors de l'étude de la compression "
   ]
  },
  {
   "cell_type": "markdown",
   "metadata": {},
   "source": [
    "Pour une longueur donnée on peut regarder comment évolue la durée en fonction du nombre de caractères composant le texte.\n",
    "<img src=\"traitementlong1000cV.png\">\n",
    "<img src=\"traitement1milloncV.png\">"
   ]
  },
  {
   "cell_type": "markdown",
   "metadata": {},
   "source": [
    "On retrouve bien la complexité quasi-linéaire rencontrée lors de l'étude de la compression \n",
    "\n",
    "<b>Remarque :</b> Le code permettant le tracé des courbes est présenté en [annexe](#annexe)."
   ]
  },
  {
   "cell_type": "markdown",
   "metadata": {},
   "source": [
    "# IV Conclusion"
   ]
  },
  {
   "cell_type": "markdown",
   "metadata": {},
   "source": [
    "L’approche du code d’Huffman nous a permis de voir des méthodes de compression utilisant les tas ou les listes et de les  comparer.\n",
    "Leurs complexités diffèrent, et il serait intéressant d’approfondir l’étude pour mieux faire apparaître cette différence.\n",
    "L’étude de la compression des textes montre une complexité quasi linéaire qui correspond bien à l’étude théorique.\n",
    "La complexité quadratique de la compression en utilisant les listes n’est pas aussi probante. Il faudrait approfondir ce travail afin de voir l’origine de l'écart entre l'étude théorique et les graphiques issues de la mise en pratique.\n",
    "En effet quelque soit la méthode utilisée ( liste ou tas) les résultats sont similaires et se rapprochent d’une complexité linéaire. Cela est contradictoire avec notre étude théorique sur les listes.\n",
    "\n",
    "<img src=\"ComparaisonMiserables.png\">\n",
    "<center><b>\n",
    " (+) : liste                   (°) : tas\n",
    "    </b></center>\n",
    "<img src=\"ComparaisonEnsemlbesRomans.png\">"
   ]
  },
  {
   "cell_type": "markdown",
   "metadata": {},
   "source": [
    "La décompression nous a montré l’utilité des arbres et rend simple la compréhension de cette étape.\n",
    "\n",
    "Ce projet nous a aussi permis encore une fois de voir les possibilités offertes par le langage python, langage relativement nouveau pour nous. Les bibliothèques et les ressources nombreuses permettent de se sortir aisément des difficultés rencontrées.\n",
    "\n",
    "Enfin il pourrait être intéressant pour une utilisation pédagogique de rendre plus graphique ce projet. Cela pourrait passer par un codage autre que les caractères de l’alphabet. Le code d’Huffman est en effet utilisé dans la compression d’images."
   ]
  },
  {
   "cell_type": "markdown",
   "metadata": {},
   "source": [
    "# V Annexes<div id =\"annexe\">"
   ]
  },
  {
   "cell_type": "markdown",
   "metadata": {},
   "source": [
    "Afin de mieux suivre les étapes de la compression et de la décompression, de faire des tracés de courbes nous avons utilisé des fonctions nous aidant à utiliser le programme créé.\n",
    "En voici une présentation de certaines.\n"
   ]
  },
  {
   "cell_type": "code",
   "execution_count": 44,
   "metadata": {},
   "outputs": [
    {
     "name": "stdout",
     "output_type": "stream",
     "text": [
      "codage de Huffman d'un texte\n",
      "voulez-vous :\n",
      "1 -taper un texte\n",
      "2 -entrer le nom du fichier\n",
      "1\n",
      "taper votre texte et appuyer sur entrée : 3lg\n"
     ]
    },
    {
     "data": {
      "text/plain": [
       "'3lg'"
      ]
     },
     "execution_count": 44,
     "metadata": {},
     "output_type": "execute_result"
    }
   ],
   "source": [
    "def messageEntre():\n",
    "    \"\"\"\n",
    "    Fonction qui permet de récupérer en sortie une chaîne de caractères issue \n",
    "    soit d'un texte tapé par l'utilisateur\n",
    "    soit d'un fichier.txt dont le nom est donné par l'utilisateur    \n",
    "    \"\"\"\n",
    "    print(\"codage de Huffman d'un texte\")\n",
    "    print(\"voulez-vous :\")\n",
    "    print(\"1 -taper un texte\")\n",
    "    print(\"2 -entrer le nom du fichier\")\n",
    "    reponse=input()\n",
    "    message=\"\"\n",
    "    if reponse==\"1\":\n",
    "        message=input(\"taper votre texte et appuyer sur entrée : \")\n",
    "    if reponse==\"2\":\n",
    "        nom=input(\"entrer le nom du fichier : \")# fichier de départ contenant le texte\n",
    "        file=open(nom,'r',encoding=\"UTF-8\") #ouverture du fichier\n",
    "        message = file.read() #stockage dans la variable texte du fichier\n",
    "        file.close() # fermeture du fichier\n",
    "    return message\n",
    "messageEntre()"
   ]
  },
  {
   "cell_type": "markdown",
   "metadata": {},
   "source": [
    "Pour la mesure des durées de traitement des textes nous avons utilisé la bibliothèque time"
   ]
  },
  {
   "cell_type": "code",
   "execution_count": 49,
   "metadata": {},
   "outputs": [
    {
     "ename": "NameError",
     "evalue": "name 'creationDictionnaireOccurence' is not defined",
     "output_type": "error",
     "traceback": [
      "\u001b[0;31m---------------------------------------------------------------------------\u001b[0m",
      "\u001b[0;31mNameError\u001b[0m                                 Traceback (most recent call last)",
      "\u001b[0;32m<ipython-input-49-ac36ca98760d>\u001b[0m in \u001b[0;36m<module>\u001b[0;34m()\u001b[0m\n\u001b[1;32m      4\u001b[0m \u001b[0;34m\u001b[0m\u001b[0m\n\u001b[1;32m      5\u001b[0m \u001b[0mtas\u001b[0m\u001b[0;34m=\u001b[0m\u001b[0;34m{\u001b[0m\u001b[0;34m}\u001b[0m\u001b[0;34m\u001b[0m\u001b[0;34m\u001b[0m\u001b[0m\n\u001b[0;32m----> 6\u001b[0;31m \u001b[0mdicoT\u001b[0m\u001b[0;34m=\u001b[0m\u001b[0mcreationDictionnaireOccurence\u001b[0m\u001b[0;34m(\u001b[0m\u001b[0mtexte\u001b[0m\u001b[0;34m)\u001b[0m\u001b[0;34m\u001b[0m\u001b[0;34m\u001b[0m\u001b[0m\n\u001b[0m\u001b[1;32m      7\u001b[0m \u001b[0mtas\u001b[0m\u001b[0;34m=\u001b[0m\u001b[0mconversionDictionnaireOccurenceEnTas\u001b[0m\u001b[0;34m(\u001b[0m\u001b[0mdicoT\u001b[0m\u001b[0;34m)\u001b[0m\u001b[0;34m\u001b[0m\u001b[0;34m\u001b[0m\u001b[0m\n\u001b[1;32m      8\u001b[0m \u001b[0;34m\u001b[0m\u001b[0m\n",
      "\u001b[0;31mNameError\u001b[0m: name 'creationDictionnaireOccurence' is not defined"
     ]
    }
   ],
   "source": [
    "import time\n",
    "texte=\"en juillet, encore le projet\"\n",
    "start_time1=time.time()\n",
    "\n",
    "tas={}\n",
    "dicoT=creationDictionnaireOccurence(texte)\n",
    "tas=conversionDictionnaireOccurenceEnTas(dicoT)\n",
    "\n",
    "arbreT = faireArbre(tas)\n",
    "\n",
    "dicoSortieT = code_huffman(arbreT)\n",
    "binaireT = encodage(dicoSortieT,texte)\n",
    "stop_time1=time.time()\n",
    "\n",
    "\"\"\"\n",
    "resultat faisable en une ligne\n",
    "binaire = encodage(code_huffman(faireArbreAvecListe(conversionDictionnaireOccurenceEnListe(creationDictionnaireOccurence(texte)))),texte)\n",
    "\"\"\"\n",
    "start_time2=time.time()\n",
    "dicoL=creationDictionnaireOccurence(texte)\n",
    "liste=conversionDictionnaireOccurenceEnListe(dicoL)\n",
    "arbreL = faireArbreAvecListe(liste)\n",
    "dicoSortieL = code_huffman(arbreL)\n",
    "binaireL = encodage(dicoSortieL,texte)\n",
    "stop_time2=time.time()\n",
    "\n",
    "print(\"----------------statistiques avec les tas----------------\")\n",
    "print(\"---------------------------------------------------------\")\n",
    "print(\"Temps d execution : %s secondes\" % (stop_time1 - start_time1))\n",
    "print(\"----------------statistiques avec les listes----------------\")\n",
    "print(\"------------------------------------------------------------\")\n",
    "print(\"Temps d execution : %s secondes\" % (stop_time2-start_time2))\n",
    "print(\"---------------------------------------------------------\")\n",
    "print(\"---------------------------------------------------------\")\n",
    "print(\"longueur du texte :\", len(texte)*8,'bits',\" longueur du message codé : \", len(binaireL),'bits')\n",
    "print(\"taux de compression : \", int(len(binaireL)/(8*len(texte))*100))\n",
    "print(\"taille du dico :\",tailleDico_bit(dicoSortieL),\" bits\")\n",
    "print(\"nombre de caractères:\",len(dicoT))\n",
    "print(\"nombre de bits pour le codage:\", nombre2bitsutilisés(dicoSortieL))\n"
   ]
  },
  {
   "cell_type": "markdown",
   "metadata": {},
   "source": [
    "Enfin pour le tracé des courbes montrant la durée de traitement en fonction de la longueur d'un texte ou pour afficher le taux de compression nous avons utilisé les bibliothèques matplotlib."
   ]
  },
  {
   "cell_type": "markdown",
   "metadata": {},
   "source": [
    "Les fichiers texte ont été pris sur http://www.gutenberg.org/, nous avons essayé de trouver des textes de longueurs différentes.\n",
    "* 4 fables de la Fontaine\n",
    "* Le Horla de Guy de Maupassant \n",
    "* Les Miserables de Vicor Hugo \n",
    "* Guerre et Paix de Léon Tolstoï \n",
    "* Candide de Voltaire\n",
    "* L'integrales des fables de la Fontaine\n",
    "* 3 tomes de la Comédie Humaine de Balzac\n",
    "\n",
    "Pour le fonctionnenemnt des programmes, ces fichiers textes doivent être placés dans le même répertoire que le notebook."
   ]
  },
  {
   "cell_type": "code",
   "execution_count": 50,
   "metadata": {},
   "outputs": [
    {
     "ename": "FileNotFoundError",
     "evalue": "[Errno 2] No such file or directory: 'leHorla.txt'",
     "output_type": "error",
     "traceback": [
      "\u001b[0;31m---------------------------------------------------------------------------\u001b[0m",
      "\u001b[0;31mFileNotFoundError\u001b[0m                         Traceback (most recent call last)",
      "\u001b[0;32m<ipython-input-50-2e7f4116f2a3>\u001b[0m in \u001b[0;36m<module>\u001b[0;34m()\u001b[0m\n\u001b[1;32m     52\u001b[0m \u001b[0;34m\u001b[0m\u001b[0m\n\u001b[1;32m     53\u001b[0m \u001b[0;32mfor\u001b[0m \u001b[0mnom\u001b[0m \u001b[0;32min\u001b[0m \u001b[0;34m[\u001b[0m\u001b[0;34m\"leHorla.txt\"\u001b[0m\u001b[0;34m,\u001b[0m\u001b[0;34m\"LesMiserables.txt\"\u001b[0m\u001b[0;34m,\u001b[0m\u001b[0;34m\"GuerrePaix.txt\"\u001b[0m\u001b[0;34m,\u001b[0m\u001b[0;34m\"candide.txt\"\u001b[0m\u001b[0;34m,\u001b[0m\u001b[0;34m\"IntegralesFables.txt\"\u001b[0m\u001b[0;34m,\u001b[0m\u001b[0;34m\"4fables.txt\"\u001b[0m\u001b[0;34m,\u001b[0m\u001b[0;34m\"Balzac.txt\"\u001b[0m\u001b[0;34m]\u001b[0m\u001b[0;34m:\u001b[0m\u001b[0;34m\u001b[0m\u001b[0;34m\u001b[0m\u001b[0m\n\u001b[0;32m---> 54\u001b[0;31m     \u001b[0mfile\u001b[0m\u001b[0;34m=\u001b[0m\u001b[0mopen\u001b[0m\u001b[0;34m(\u001b[0m\u001b[0mnom\u001b[0m\u001b[0;34m,\u001b[0m\u001b[0;34m'r'\u001b[0m\u001b[0;34m,\u001b[0m\u001b[0mencoding\u001b[0m\u001b[0;34m=\u001b[0m\u001b[0;34m\"UTF-8\"\u001b[0m\u001b[0;34m)\u001b[0m \u001b[0;31m#ouverture du fichier\u001b[0m\u001b[0;34m\u001b[0m\u001b[0;34m\u001b[0m\u001b[0m\n\u001b[0m\u001b[1;32m     55\u001b[0m     \u001b[0mmessage\u001b[0m \u001b[0;34m=\u001b[0m \u001b[0mfile\u001b[0m\u001b[0;34m.\u001b[0m\u001b[0mread\u001b[0m\u001b[0;34m(\u001b[0m\u001b[0;34m)\u001b[0m \u001b[0;31m#stockage dans la variable texte du fichier\u001b[0m\u001b[0;34m\u001b[0m\u001b[0;34m\u001b[0m\u001b[0m\n\u001b[1;32m     56\u001b[0m     \u001b[0mfile\u001b[0m\u001b[0;34m.\u001b[0m\u001b[0mclose\u001b[0m\u001b[0;34m(\u001b[0m\u001b[0;34m)\u001b[0m \u001b[0;31m# fermeture du fichier\u001b[0m\u001b[0;34m\u001b[0m\u001b[0;34m\u001b[0m\u001b[0m\n",
      "\u001b[0;31mFileNotFoundError\u001b[0m: [Errno 2] No such file or directory: 'leHorla.txt'"
     ]
    }
   ],
   "source": [
    "def generateurTexte(longueur,Nbca):\n",
    "    \"\"\"\n",
    "    Fonction qui prend un entier longueur et un entier Nbca\n",
    "    Retourne un texte de longueur longueur composé Nbca caractères différents\n",
    "    \"\"\"\n",
    "    texte=\"\"\n",
    "    choixLettre=alphabet[0:Nbca]\n",
    "    for i in range(longueur):\n",
    "        texte=texte+choixLettre[randint(0,len(choixLettre)-1)]\n",
    "    return texte\n",
    "\n",
    "def troncageTexte(texte,longueur):\n",
    "    \"\"\"prend une chaîne de caractères texte et un entier longueur\n",
    "    retourne les n premiers caractères de la chaîne\"\"\"\n",
    "    texteCoupe=texte[0:longueur]\n",
    "    return texteCoupe\n",
    "\n",
    "def encodageGlobalTas(texte):\n",
    "    return encodage(code_huffman(faireArbre(conversionDictionnaireOccurenceEnTas(creationDictionnaireOccurence(texte)))),texte)\n",
    "    \n",
    "def encodageGlobalListe(texte):\n",
    "    return encodage(code_huffman(faireArbreAvecListe(conversionDictionnaireOccurenceEnListe(creationDictionnaireOccurence(texte)))),texte)\n",
    "\n",
    "def tracerCourbe(x,y,couleur):\n",
    "    pyplot.scatter(x, y, c = couleur)\n",
    "    return None\n",
    "\n",
    "###########################################################################\n",
    "################       Programme Principal                #################\n",
    "###########################################################################\n",
    "\n",
    "###\n",
    "#EVOLUTION\n",
    "###\n",
    "from matplotlib import pyplot\n",
    "from random import randint\n",
    "from random import shuffle\n",
    "import time\n",
    "\n",
    "alphabet=[]\n",
    "for i in range(65,91):\n",
    "    alphabet.append(chr(i))\n",
    "for i in range(97,123):\n",
    "    alphabet.append(chr(i))\n",
    "shuffle(alphabet)\n",
    "alphabet.insert(0,\" \")\n",
    "\n",
    "durée=[]\n",
    "compression=[]\n",
    "longueurTexte=[]\n",
    "xlong=[]\n",
    "\n",
    "for nom in [\"leHorla.txt\",\"LesMiserables.txt\",\"GuerrePaix.txt\",\"candide.txt\",\"IntegralesFables.txt\",\"4fables.txt\",\"Balzac.txt\"]:\n",
    "    file=open(nom,'r',encoding=\"UTF-8\") #ouverture du fichier\n",
    "    message = file.read() #stockage dans la variable texte du fichier\n",
    "    file.close() # fermeture du fichier\n",
    "    taille=len(message)\n",
    "    for i in range(1,21):\n",
    "        longueurTexte.append(int(taille//i))    \n",
    "    for long in longueurTexte:\n",
    "        texte=troncageTexte(message,long)\n",
    "        start=time.time()\n",
    "        code=encodageGlobalListe(texte)\n",
    "        stop=time.time()\n",
    "        xlong.append(long)\n",
    "        durée.append(stop-start)\n",
    "        compression.append((len(code)/(8*len(texte))*100))\n",
    "    \n",
    "#tracerCourbe(xlong,durée,\"green\")\n",
    "tracerCourbe(xlong,durée,\"red\")\n",
    "#pyplot.xscale('log')\n",
    "#pyplot.axis([0, taille, 0, 100])\n",
    "pyplot.xlabel('Longueur du texte')\n",
    "pyplot.ylabel('durée')\n",
    "pyplot.title(\"Durée pour l'ensemble des livres de 10 à 100%)\")\n",
    "pyplot.show()"
   ]
  },
  {
   "cell_type": "code",
   "execution_count": null,
   "metadata": {},
   "outputs": [],
   "source": []
  }
 ],
 "metadata": {
  "kernelspec": {
   "display_name": "Python 3",
   "language": "python",
   "name": "python3"
  },
  "language_info": {
   "codemirror_mode": {
    "name": "ipython",
    "version": 3
   },
   "file_extension": ".py",
   "mimetype": "text/x-python",
   "name": "python",
   "nbconvert_exporter": "python",
   "pygments_lexer": "ipython3",
   "version": "3.7.1"
  }
 },
 "nbformat": 4,
 "nbformat_minor": 2
}
